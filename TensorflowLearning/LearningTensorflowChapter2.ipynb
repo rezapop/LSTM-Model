{
 "cells": [
  {
   "cell_type": "markdown",
   "metadata": {},
   "source": [
    "# Tensorflow Learning\n",
    "## www.elecwizard.ir\n",
    "### chapter 2\n",
    "#### Arrays: Working with Images\n",
    "\n",
    "In this tutorial, we are going to work with an image, in order to visualise changes to an array. Arrays are powerful structures, as we saw briefly in the previous tutorial. Generating interesting arrays can be difficult, but images provide a great option."
   ]
  },
  {
   "cell_type": "markdown",
   "metadata": {},
   "source": [
    "To load the image, we use matplotlib’s image module:"
   ]
  },
  {
   "cell_type": "code",
   "execution_count": 1,
   "metadata": {
    "collapsed": false
   },
   "outputs": [
    {
     "name": "stdout",
     "output_type": "stream",
     "text": [
      "(5528, 3685, 3)\n"
     ]
    }
   ],
   "source": [
    "import matplotlib.image as mpimg\n",
    "import os\n",
    "from scipy import misc\n",
    "import tensorflow as tf\n",
    "# First, load the image\n",
    "\n",
    "image = misc.imread('/home/reza/DeepLearning/Tensorflow/MarshOrchid.jpg')\n",
    "# Print out its shape\n",
    "print(image.shape)"
   ]
  },
  {
   "cell_type": "markdown",
   "metadata": {},
   "source": [
    "\n",
    "The above code reads in the image as a NumPy array, and prints out the size. Note that the filename needs to be a full path (absolute or relative) to the downloaded image file.\n",
    "\n",
    "You’ll see the output, which is (5528, 3685, 3). This means the image is 5528 pixels high, 3685 pixels wide, and 3 colors “deep”.\n",
    "\n",
    "You can view the current image using pyplot, like so:\n",
    "\n"
   ]
  },
  {
   "cell_type": "code",
   "execution_count": null,
   "metadata": {
    "collapsed": false
   },
   "outputs": [],
   "source": [
    "import matplotlib.pyplot as plt\n",
    "\n",
    "# This is a bit of magic to make matplotlib figures appear inline in the\n",
    "# notebook rather than in a new window.\n",
    "%matplotlib inline\n",
    "plt.rcParams['figure.figsize'] = (10.0, 8.0) # set default size of plots\n",
    "plt.rcParams['image.interpolation'] = 'nearest'\n",
    "plt.rcParams['image.cmap'] = 'gray'\n",
    "\n",
    "# Some more magic so that the notebook will reload external python modules;\n",
    "# see http://stackoverflow.com/questions/1907993/autoreload-of-modules-in-ipython\n",
    "%load_ext autoreload\n",
    "%autoreload 2\n",
    "plt.imshow(image)\n",
    "plt.show()"
   ]
  },
  {
   "cell_type": "markdown",
   "metadata": {},
   "source": [
    "### Geometric Manipulations\n",
    "\n",
    "The first transformation we will perform is a transpose, turning the image 90 degrees counter-clockwise. The full program is below, most of which you have seen."
   ]
  },
  {
   "cell_type": "code",
   "execution_count": null,
   "metadata": {
    "collapsed": false
   },
   "outputs": [],
   "source": [
    "# create a tensorflow variable\n",
    "x=tf.Variable(image,name='x')\n",
    "init=tf.global_variables_initializer()\n",
    "with tf.Session() as sess:\n",
    "    sess.run(init)\n",
    "    x=tf.transpose(x,perm=[1,0,2])\n",
    "    result=sess.run(x)\n",
    "plt.imshow(result)\n",
    "plt.show()"
   ]
  },
  {
   "cell_type": "markdown",
   "metadata": {},
   "source": [
    "The new bit is this line:\n",
    "\n",
    "    x = tf.transpose(x, perm=[1, 0, 2])\n",
    "\n",
    "This line uses TensorFlow’s transpose method, swapping the axes 0 and 1 around using the perm parameter (axis 2 stays where it is)."
   ]
  },
  {
   "cell_type": "markdown",
   "metadata": {},
   "source": [
    "\n",
    "\n",
    "The next manipulation we will do is a flip (left-right), swapping the pixels from one side to another.\n",
    "For this function, it can be best thought of as:\n",
    "\n",
    "    1-Iterate through the array according to batch_dim. Setting batch_dim=0 means we go through the rows (top to bottom).\n",
    "    2-For each item in the iteration\n",
    "    Slice a second dimension, denoted by seq_dim. Setting seq_dim=1 means we go through the columns (left to right).\n",
    "    The slice for the nth item in the iteration is denoted by the nth item in seq_lengths\n",
    "\n",
    "Lets see it in action:"
   ]
  },
  {
   "cell_type": "code",
   "execution_count": null,
   "metadata": {
    "collapsed": false
   },
   "outputs": [],
   "source": [
    "# create a tensorflow variable\n",
    "y=tf.Variable(image,name='y')\n",
    "height, width, depth = image.shape\n",
    "init=tf.global_variables_initializer()\n",
    "with tf.Session() as sess:\n",
    "    sess.run(init)\n",
    "    y= tf.reverse_sequence(y, [width] * height, 1, batch_dim=0)\n",
    "    result=sess.run(y)\n",
    "plt.imshow(result)\n",
    "plt.show()"
   ]
  },
  {
   "cell_type": "markdown",
   "metadata": {},
   "source": [
    "The new bit is this line:\n",
    "\n",
    "     x = tf.reverse_sequence(x, np.ones((height,)) * width, 1, batch_dim=0)\n",
    "\n",
    "It iterates over the image top to bottom (along its height), and slices left to right (along its width). From here, it then takes a slice of size width, where width is the width of the image."
   ]
  }
 ],
 "metadata": {
  "anaconda-cloud": {},
  "kernelspec": {
   "display_name": "Python [conda root]",
   "language": "python",
   "name": "conda-root-py"
  },
  "language_info": {
   "codemirror_mode": {
    "name": "ipython",
    "version": 3
   },
   "file_extension": ".py",
   "mimetype": "text/x-python",
   "name": "python",
   "nbconvert_exporter": "python",
   "pygments_lexer": "ipython3",
   "version": "3.5.2"
  }
 },
 "nbformat": 4,
 "nbformat_minor": 1
}
