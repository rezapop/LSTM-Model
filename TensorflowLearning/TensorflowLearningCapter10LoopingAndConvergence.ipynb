{
 "cells": [
  {
   "cell_type": "markdown",
   "metadata": {},
   "source": [
    "# Tensorflow Learning\n",
    "## www.elecwizard.ir\n",
    "### chapter 10\n",
    "#### Looping and Convergence\n",
    "\n"
   ]
  },
  {
   "cell_type": "markdown",
   "metadata": {},
   "source": [
    "A key component of most artificial intelligence and machine learning is looping, i.e. the system improving over many iterations of training. A very simple method to train in this way is just to perform updates in a for loop. "
   ]
  },
  {
   "cell_type": "code",
   "execution_count": 1,
   "metadata": {
    "collapsed": true
   },
   "outputs": [],
   "source": [
    "import matplotlib.image as mpimg\n",
    "import matplotlib.pyplot as plt\n",
    "import os\n",
    "from scipy import misc\n",
    "import tensorflow as tf\n",
    "import numpy as np\n",
    "# First, load the image\n",
    "\n",
    "# This is a bit of magic to make matplotlib figures appear inline in the\n",
    "# notebook rather than in a new window.\n",
    "%matplotlib inline\n",
    "plt.rcParams['figure.figsize'] = (10.0, 8.0) # set default size of plots\n",
    "plt.rcParams['image.interpolation'] = 'nearest'\n",
    "plt.rcParams['image.cmap'] = 'gray'\n",
    "\n",
    "# Some more magic so that the notebook will reload external python modules;\n",
    "# see http://stackoverflow.com/questions/1907993/autoreload-of-modules-in-ipython\n",
    "%load_ext autoreload\n",
    "%autoreload 2\n"
   ]
  },
  {
   "cell_type": "code",
   "execution_count": 2,
   "metadata": {
    "collapsed": false
   },
   "outputs": [
    {
     "name": "stdout",
     "output_type": "stream",
     "text": [
      "1\n",
      "2\n",
      "3\n",
      "4\n",
      "5\n"
     ]
    }
   ],
   "source": [
    "x = tf.Variable(0, name='x')\n",
    "\n",
    "model = tf.global_variables_initializer()\n",
    "\n",
    "with tf.Session() as session:\n",
    "    for i in range(5):\n",
    "        session.run(model)\n",
    "        x = x + 1\n",
    "        print(session.run(x))\n",
    "\n"
   ]
  },
  {
   "cell_type": "markdown",
   "metadata": {},
   "source": [
    "We can alter this workflow to instead use a variable as the convergence loop, such as in the following:"
   ]
  },
  {
   "cell_type": "code",
   "execution_count": 4,
   "metadata": {
    "collapsed": false
   },
   "outputs": [
    {
     "name": "stdout",
     "output_type": "stream",
     "text": [
      "1.0\n",
      "2.0\n",
      "3.0\n",
      "4.0\n",
      "5.0\n"
     ]
    }
   ],
   "source": [
    "y = tf.Variable(0., name='y')\n",
    "threshold = tf.constant(5.)\n",
    "\n",
    "model = tf.global_variables_initializer()\n",
    "\n",
    "with tf.Session() as session:\n",
    "    session.run(model)\n",
    "    while session.run(tf.less(y, threshold)):\n",
    "        y = y + 1\n",
    "        y_value = session.run(y)\n",
    "        print(y_value)"
   ]
  },
  {
   "cell_type": "markdown",
   "metadata": {},
   "source": [
    "The major change here is that the loop is now a while loop, continuing to loop while the test (using tf.less for a less-than-test) is true. Here, we test if x is less than a given threshold (stored in a constant), and if so, we continue looping."
   ]
  },
  {
   "cell_type": "markdown",
   "metadata": {},
   "source": [
    "### Gradient Descent\n",
    "\n",
    "Any machine learning library must have a gradient descent algorithm. I think it is a law. Regardless, Tensorflow has a few variations on the theme, and they are quite straight forward to use.\n",
    "\n",
    "Gradient Descent is a learning algorithm that attempts to minimise some error. Which error do you ask? Well that is up to us, although there are a few commonly used methods.\n",
    "\n",
    "Let’s start with a basic example:"
   ]
  },
  {
   "cell_type": "code",
   "execution_count": 11,
   "metadata": {
    "collapsed": false
   },
   "outputs": [
    {
     "name": "stdout",
     "output_type": "stream",
     "text": [
      "Predicted model: 2.576x + 2.456\n"
     ]
    },
    {
     "name": "stderr",
     "output_type": "stream",
     "text": [
      "/home/reza/anaconda3/lib/python3.5/site-packages/numpy/core/_methods.py:59: RuntimeWarning: Mean of empty slice.\n",
      "  warnings.warn(\"Mean of empty slice.\", RuntimeWarning)\n",
      "/home/reza/anaconda3/lib/python3.5/site-packages/numpy/core/_methods.py:70: RuntimeWarning: invalid value encountered in double_scalars\n",
      "  ret = ret.dtype.type(ret / rcount)\n"
     ]
    },
    {
     "data": {
      "image/png": "[encoded data removed]",
      "text/plain": [
       "<matplotlib.figure.Figure at 0x7f26af276c88>"
      ]
     },
     "metadata": {},
     "output_type": "display_data"
    }
   ],
   "source": [
    "# x and y are placeholders for our training data\n",
    "x = tf.placeholder(\"float\")\n",
    "y = tf.placeholder(\"float\")\n",
    "# w is the variable storing our values. It is initialised with starting \"guesses\"\n",
    "# w[0] is the \"a\" in our equation, w[1] is the \"b\"\n",
    "w = tf.Variable([1.0, 2.0], name=\"w\")\n",
    "# Our model of y = a*x + b\n",
    "y_model = tf.multiply(x, w[0]) + w[1]\n",
    "\n",
    "# Our error is defined as the square of the differences\n",
    "error = tf.square(y - y_model)\n",
    "# The Gradient Descent Optimizer does the heavy lifting\n",
    "train_op = tf.train.GradientDescentOptimizer(0.01).minimize(error)\n",
    "\n",
    "# Normal TensorFlow - initialize values, create a session and run the model\n",
    "model = tf.global_variables_initializer()\n",
    "\n",
    "errors = []\n",
    "with tf.Session() as session:\n",
    "    session.run(model)\n",
    "    for i in range(10):\n",
    "        x_train = tf.random_normal((1,), mean=5, stddev=2.0)\n",
    "        y_train = x_train * 2 + 6\n",
    "        x_value, y_value = session.run([x_train, y_train])\n",
    "        _, error_value = session.run([train_op, error], feed_dict={x: x_value, y: y_value})\n",
    "        errors.append(error_value)\n",
    "    w_value = session.run(w)\n",
    "    print(\"Predicted model: {a:.3f}x + {b:.3f}\".format(a=w_value[0], b=w_value[1]))\n",
    "\n",
    "import matplotlib.pyplot as plt\n",
    "plt.plot([np.mean(errors[i-50:i]) for i in range(len(errors))])\n",
    "plt.show()\n"
   ]
  },
  {
   "cell_type": "markdown",
   "metadata": {},
   "source": [
    "The major line of interest here is    \n",
    "\n",
    "train_op = tf.train.GradientDescentOptimizer(0.01).minimize(error)      \n",
    "\n",
    "where the training step is defined. It aims to minimise the value of the error Variable, which is defined earlier as the square of the differences (a common error function). The 0.01 is the step it takes to try learn a better value.\n",
    "\n",
    "An important note here is that we are optimising just a single value, but that value can be an array. This is why we used w as the Variable, and not two separate Variables a and b."
   ]
  },
  {
   "cell_type": "markdown",
   "metadata": {},
   "source": [
    "You may have noticed that I take a windowed average here – using np.mean(errors[i-50:i]) instead of just using errors[i]. The reason for this is that we are only doing a single test inside the loop, so while the error tends to decrease, it bounces around quite a bit. Taking this windowed average smooths this out a bit, but as you can see above, it still jumps around.\n"
   ]
  }
 ],
 "metadata": {
  "anaconda-cloud": {},
  "kernelspec": {
   "display_name": "Python [conda root]",
   "language": "python",
   "name": "conda-root-py"
  },
  "language_info": {
   "codemirror_mode": {
    "name": "ipython",
    "version": 3
   },
   "file_extension": ".py",
   "mimetype": "text/x-python",
   "name": "python",
   "nbconvert_exporter": "python",
   "pygments_lexer": "ipython3",
   "version": "3.5.2"
  }
 },
 "nbformat": 4,
 "nbformat_minor": 1
}
