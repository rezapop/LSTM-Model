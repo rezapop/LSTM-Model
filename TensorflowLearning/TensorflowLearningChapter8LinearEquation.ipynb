{
 "cells": [
  {
   "cell_type": "markdown",
   "metadata": {},
   "source": [
    "# Tensorflow Learning\n",
    "## www.elecwizard.ir\n",
    "### chapter 8\n",
    "#### Linear Equations in TensorFlow\n",
    "\n"
   ]
  },
  {
   "cell_type": "markdown",
   "metadata": {},
   "source": [
    "Through the tf.solve function, TensorFlow can solve Linear Equations. You might recognised these as being sets of linked equations like this:\n",
    "\n",
    "    3x+2y4x−y=15=10\n",
    "\n",
    "These types of linear equations are used for a number of problems in mathematics, from optimising factory output to geometry. You can solve these equations using a number of methods, but in this lesson, we will see how to use tf.solve to do this for us."
   ]
  },
  {
   "cell_type": "markdown",
   "metadata": {},
   "source": [
    "I’ll focus on the geometry. Here are two points, p1 and p2 that lie on a 2-Dimensional (x, y) space:\n",
    "\n",
    "    p1p2=(1,2)=(0,−1)"
   ]
  },
  {
   "cell_type": "markdown",
   "metadata": {},
   "source": [
    "The task is to determine the equation of the line that goes through both of these points."
   ]
  },
  {
   "cell_type": "markdown",
   "metadata": {},
   "source": [
    "\n",
    "\n",
    "To do this in TensorFlow, we first setup a series of linear equations with our points at the center. To mix things up a bit, I’ll use tf.pack to build the array. The end result is a simple 2D array (tensor!) containing the above two points."
   ]
  },
  {
   "cell_type": "code",
   "execution_count": 1,
   "metadata": {
    "collapsed": true
   },
   "outputs": [],
   "source": [
    "import matplotlib.image as mpimg\n",
    "import matplotlib.pyplot as plt\n",
    "import os\n",
    "from scipy import misc\n",
    "import tensorflow as tf\n",
    "# First, load the image\n",
    "\n",
    "# This is a bit of magic to make matplotlib figures appear inline in the\n",
    "# notebook rather than in a new window.\n",
    "%matplotlib inline\n",
    "plt.rcParams['figure.figsize'] = (10.0, 8.0) # set default size of plots\n",
    "plt.rcParams['image.interpolation'] = 'nearest'\n",
    "plt.rcParams['image.cmap'] = 'gray'\n",
    "\n",
    "# Some more magic so that the notebook will reload external python modules;\n",
    "# see http://stackoverflow.com/questions/1907993/autoreload-of-modules-in-ipython\n",
    "%load_ext autoreload\n",
    "%autoreload 2\n"
   ]
  },
  {
   "cell_type": "code",
   "execution_count": 15,
   "metadata": {
    "collapsed": false
   },
   "outputs": [
    {
     "data": {
      "text/plain": [
       "<tf.Tensor 'transpose_3:0' shape=(2, 2) dtype=float32>"
      ]
     },
     "execution_count": 15,
     "metadata": {},
     "output_type": "execute_result"
    }
   ],
   "source": [
    "# Point 1\n",
    "x1 = tf.constant(1, dtype=tf.float32)\n",
    "y1 = tf.constant(2, dtype=tf.float32)\n",
    "point1 = tf.stack([x1, y1])\n",
    "\n",
    "# Point 2\n",
    "x2 = tf.constant(0, dtype=tf.float32)\n",
    "y2 = tf.constant(-1, dtype=tf.float32)\n",
    "point2 = tf.stack([x2, y2])\n",
    "\n",
    "# Combine points into an array\n",
    "points = tf.transpose(tf.stack([point1, point2]))\n",
    "points"
   ]
  },
  {
   "cell_type": "markdown",
   "metadata": {},
   "source": [
    "The equation for a line is:\n",
    "\n",
    "    y=ax+b\n",
    "\n",
    "Our job is to find the values for a and b in the above equation, given our observed points. We can do this quite easily by taking the inverse of the points array and multiplying it by a matrix with ones."
   ]
  },
  {
   "cell_type": "code",
   "execution_count": 16,
   "metadata": {
    "collapsed": false
   },
   "outputs": [
    {
     "name": "stdout",
     "output_type": "stream",
     "text": [
      "Equation: y = 3.0x + -1.0\n"
     ]
    }
   ],
   "source": [
    "\n",
    "ones = tf.ones((1, 2))\n",
    "\n",
    "parameters = tf.matmul(ones, tf.matrix_inverse(points))\n",
    "\n",
    "\n",
    "with tf.Session() as session:\n",
    "    result = session.run(parameters)\n",
    "    a = result[0][0]\n",
    "    b = result[0][1]\n",
    "    print(\"Equation: y = {a}x + {b}\".format(a=a, b=b))"
   ]
  },
  {
   "cell_type": "markdown",
   "metadata": {},
   "source": [
    "Mathematically, if X is our matrix of observed points and A is the parameters we need to learn, we setup a system:\n",
    "\n",
    "    AX=B\n",
    "\n",
    "The parameters to learn is then simply:\n",
    "\n",
    "    A=BX^−1\n",
    "\n",
    "This solution is nicely wrapped up in the tf.solve function. "
   ]
  },
  {
   "cell_type": "code",
   "execution_count": 40,
   "metadata": {
    "collapsed": false
   },
   "outputs": [
    {
     "name": "stdout",
     "output_type": "stream",
     "text": [
      "Equation: y = 3.0x + -1.0\n",
      "(2,)\n"
     ]
    }
   ],
   "source": [
    "\n",
    "ones = tf.ones((2, 1),dtype=tf.float64)\n",
    "# Point 1\n",
    "x1 = tf.constant(1, dtype=tf.float64)\n",
    "y1 = tf.constant(2, dtype=tf.float64)\n",
    "point1 = tf.stack([x1, y1])\n",
    "\n",
    "# Point 2\n",
    "x2 = tf.constant(0, dtype=tf.float64)\n",
    "y2 = tf.constant(-1, dtype=tf.float64)\n",
    "point2 = tf.stack([x2, y2])\n",
    "\n",
    "# Combine points into an array\n",
    "points = tf.transpose(tf.stack([point1, point2]))\n",
    "X = tf.matrix_solve(tf.transpose(points),ones)\n",
    "\n",
    "with tf.Session() as session:\n",
    "    result = session.run(X)\n",
    "    a = result[0][0]\n",
    "    b = result[1][0]\n",
    "    print(\"Equation: y = {a}x + {b}\".format(a=a, b=b)) "
   ]
  }
 ],
 "metadata": {
  "anaconda-cloud": {},
  "kernelspec": {
   "display_name": "Python [conda root]",
   "language": "python",
   "name": "conda-root-py"
  },
  "language_info": {
   "codemirror_mode": {
    "name": "ipython",
    "version": 3
   },
   "file_extension": ".py",
   "mimetype": "text/x-python",
   "name": "python",
   "nbconvert_exporter": "python",
   "pygments_lexer": "ipython3",
   "version": "3.5.2"
  }
 },
 "nbformat": 4,
 "nbformat_minor": 1
}
